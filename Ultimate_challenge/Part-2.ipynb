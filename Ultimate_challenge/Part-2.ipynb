{
 "cells": [
  {
   "cell_type": "markdown",
   "metadata": {},
   "source": [
    "### Part 2 ‑ Experiment and metrics design\n",
    "\n",
    "\n",
    "The neighboring cities of Gotham and Metropolis have complementary circadian rhythms: on\n",
    "weekdays, Ultimate Gotham is most active at night, and Ultimate Metropolis is most active\n",
    "during the day. On weekends, there is reasonable activity in both cities.\n",
    "However, a toll bridge, with a two­way toll, between the two cities causes driver partners to tend\n",
    "to be exclusive to each city. The Ultimate managers of city operations for the two cities have\n",
    "proposed an experiment to encourage driver partners to be available in both cities, by\n",
    "reimbursing all toll costs.\n",
    "1. What would you choose as the key measure of success of this experiment in\n",
    "encouraging driver partners to serve both cities, and why would you choose this metric?\n",
    "2. Describe a practical experiment you would design to compare the effectiveness of the\n",
    "proposed change in relation to the key measure of success. Please provide details on:\n",
    "a. how you will implement the experiment\n",
    "b. what statistical test(s) you will conduct to verify the significance of the\n",
    "observation\n",
    "c. how you would interpret the results and provide recommendations to the city\n",
    "operations team along with any caveats"
   ]
  },
  {
   "cell_type": "markdown",
   "metadata": {},
   "source": [
    "**What would you choose as the key measure of success of this experiment in encouraging driver partners to serve both cities?**"
   ]
  },
  {
   "cell_type": "markdown",
   "metadata": {},
   "source": [
    "I would choose the average increase in the number of bridge crossings as the key measure of success. Because the ultimate goal is to encourage driver partners to be available in both cities, the reimbursing the oll costs experiment should increase the number of bridge crossings."
   ]
  },
  {
   "cell_type": "markdown",
   "metadata": {},
   "source": [
    "**why would you choose this metric?**\n",
    "\n",
    "- Easy to implement and the simplest measure.\n",
    "- The toll station at bridge should keep the record of each toll date, timestamp, vehicle number. So that it would be easy to measure the average increase in number of bridge crossing."
   ]
  },
  {
   "cell_type": "markdown",
   "metadata": {},
   "source": [
    "**2.a how you will implement the experiment?**"
   ]
  },
  {
   "cell_type": "markdown",
   "metadata": {},
   "source": [
    "First I will choose the two groups by random sampling(to avoid sampling bias) the drivers from both cities.The two groups are\n",
    "\n",
    "    1.controlled group(not giving any reimbursement) and \n",
    "    2.experiment group(giving reimbursement)\n",
    "\n",
    "Then track the number of bridge crossings between two groups."
   ]
  },
  {
   "cell_type": "markdown",
   "metadata": {},
   "source": [
    "**b. what statistical test(s) you will conduct to verify the significance of the observation?**\n",
    "\n",
    "I will conduct A/B test by computing two sample t-test, to determine the average number of birdge crossings is significantly different between controlled group and experiment group.\n",
    "\n",
    "For this I will make hypothesis about the number of bridge crossings between two groups.\n",
    "\n",
    "- null hypothesis(H0) - There is no significant difference between controlled and experiment group.\n",
    "- alternate hypothesis(Ha) - There is significant difference between controlled and experiment group.\n",
    "\n",
    "Depending on the p-value after computing the t-test, we will either accept or reject the null hypothesis."
   ]
  },
  {
   "cell_type": "markdown",
   "metadata": {},
   "source": [
    "**c. how you would interpret the results and provide recommendations to the city operations team along with any caveats?**\n",
    "\n",
    "If p-value is samller than the significance level(0.05), then we will reject the null hypothesis and can assume the reimbursement experiment is success. To make sure that the program is success I will recommend to run the test over certain period of time with diffrent random sampling groups.\n",
    "\n",
    "If we failed to reject the null hypothesis depends on p-value, we can assume that\n",
    "\n",
    "- 1. Our key metric of success is incorrect. or\n",
    "- 2. There are other hidden factors involved in crossing the bridge between two cities that discourages the drivers from being available."
   ]
  },
  {
   "cell_type": "markdown",
   "metadata": {},
   "source": [
    "#### Potential caveats:\n",
    "\n",
    "- The difference is significant in weekdays only not in weekends. The reason behid this is there is reasonable activity in both the cities in weekends. So there might be no requirement to cross the bridge during weekends.\n"
   ]
  },
  {
   "cell_type": "code",
   "execution_count": null,
   "metadata": {},
   "outputs": [],
   "source": []
  }
 ],
 "metadata": {
  "kernelspec": {
   "display_name": "Python 3",
   "language": "python",
   "name": "python3"
  },
  "language_info": {
   "codemirror_mode": {
    "name": "ipython",
    "version": 3
   },
   "file_extension": ".py",
   "mimetype": "text/x-python",
   "name": "python",
   "nbconvert_exporter": "python",
   "pygments_lexer": "ipython3",
   "version": "3.7.4"
  }
 },
 "nbformat": 4,
 "nbformat_minor": 2
}
